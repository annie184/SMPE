{
 "cells": [
  {
   "cell_type": "markdown",
   "metadata": {},
   "source": [
    "# French given names per year per department\n",
    "### Autor: Ana Granizo\n",
    "\n",
    "The dataset is the set of Firstname given in France on a large period of time. \n",
    "[given names data set of INSEE](https://www.insee.fr/fr/statistiques/fichier/2540004/dpt2019_csv.zip), we choose this dataset because it is sufficiently large, you can't do the analysis by hand, the structure is simple"
   ]
  },
  {
   "cell_type": "markdown",
   "metadata": {},
   "source": [
    "## Import the necessary Libraries"
   ]
  },
  {
   "cell_type": "code",
   "execution_count": 14,
   "metadata": {},
   "outputs": [],
   "source": [
    "%matplotlib inline\n",
    "import matplotlib.pyplot as plt\n",
    "import pandas as pd\n",
    "import os.path\n",
    "import urllib.request\n",
    "import zipfile"
   ]
  },
  {
   "cell_type": "markdown",
   "metadata": {},
   "source": [
    "## Download Raw Data from the website"
   ]
  },
  {
   "cell_type": "code",
   "execution_count": 15,
   "metadata": {},
   "outputs": [],
   "source": [
    "data_url=\"https://www.insee.fr/fr/statistiques/fichier/2540004/dpt2019_csv.zip\"\n",
    "file = \"dpt2019_csv.zip\"\n",
    "if not os.path.exists(file):\n",
    "    urllib.request.urlretrieve(data_url, file)\n",
    "zipfile = zipfile.ZipFile(file) \n",
    "raz_data = pd.read_csv(zipfile.open('dpt2019.csv'))"
   ]
  },
  {
   "cell_type": "markdown",
   "metadata": {},
   "source": [
    "## Build the Dataframe from file"
   ]
  },
  {
   "cell_type": "code",
   "execution_count": 46,
   "metadata": {},
   "outputs": [
    {
     "data": {
      "text/html": [
       "<div>\n",
       "<style scoped>\n",
       "    .dataframe tbody tr th:only-of-type {\n",
       "        vertical-align: middle;\n",
       "    }\n",
       "\n",
       "    .dataframe tbody tr th {\n",
       "        vertical-align: top;\n",
       "    }\n",
       "\n",
       "    .dataframe thead th {\n",
       "        text-align: right;\n",
       "    }\n",
       "</style>\n",
       "<table border=\"1\" class=\"dataframe\">\n",
       "  <thead>\n",
       "    <tr style=\"text-align: right;\">\n",
       "      <th></th>\n",
       "      <th>sexe</th>\n",
       "      <th>preusuel</th>\n",
       "      <th>annais</th>\n",
       "      <th>dpt</th>\n",
       "      <th>nombre</th>\n",
       "    </tr>\n",
       "  </thead>\n",
       "  <tbody>\n",
       "    <tr>\n",
       "      <th>0</th>\n",
       "      <td>1</td>\n",
       "      <td>_PRENOMS_RARES</td>\n",
       "      <td>1900</td>\n",
       "      <td>02</td>\n",
       "      <td>7</td>\n",
       "    </tr>\n",
       "    <tr>\n",
       "      <th>1</th>\n",
       "      <td>1</td>\n",
       "      <td>_PRENOMS_RARES</td>\n",
       "      <td>1900</td>\n",
       "      <td>04</td>\n",
       "      <td>9</td>\n",
       "    </tr>\n",
       "    <tr>\n",
       "      <th>2</th>\n",
       "      <td>1</td>\n",
       "      <td>_PRENOMS_RARES</td>\n",
       "      <td>1900</td>\n",
       "      <td>05</td>\n",
       "      <td>8</td>\n",
       "    </tr>\n",
       "    <tr>\n",
       "      <th>3</th>\n",
       "      <td>1</td>\n",
       "      <td>_PRENOMS_RARES</td>\n",
       "      <td>1900</td>\n",
       "      <td>06</td>\n",
       "      <td>23</td>\n",
       "    </tr>\n",
       "    <tr>\n",
       "      <th>4</th>\n",
       "      <td>1</td>\n",
       "      <td>_PRENOMS_RARES</td>\n",
       "      <td>1900</td>\n",
       "      <td>07</td>\n",
       "      <td>9</td>\n",
       "    </tr>\n",
       "    <tr>\n",
       "      <th>...</th>\n",
       "      <td>...</td>\n",
       "      <td>...</td>\n",
       "      <td>...</td>\n",
       "      <td>...</td>\n",
       "      <td>...</td>\n",
       "    </tr>\n",
       "    <tr>\n",
       "      <th>3676677</th>\n",
       "      <td>2</td>\n",
       "      <td>ZYA</td>\n",
       "      <td>2018</td>\n",
       "      <td>59</td>\n",
       "      <td>3</td>\n",
       "    </tr>\n",
       "    <tr>\n",
       "      <th>3676678</th>\n",
       "      <td>2</td>\n",
       "      <td>ZYA</td>\n",
       "      <td>XXXX</td>\n",
       "      <td>XX</td>\n",
       "      <td>252</td>\n",
       "    </tr>\n",
       "    <tr>\n",
       "      <th>3676679</th>\n",
       "      <td>2</td>\n",
       "      <td>ZYNA</td>\n",
       "      <td>2013</td>\n",
       "      <td>93</td>\n",
       "      <td>3</td>\n",
       "    </tr>\n",
       "    <tr>\n",
       "      <th>3676680</th>\n",
       "      <td>2</td>\n",
       "      <td>ZYNA</td>\n",
       "      <td>XXXX</td>\n",
       "      <td>XX</td>\n",
       "      <td>54</td>\n",
       "    </tr>\n",
       "    <tr>\n",
       "      <th>3676681</th>\n",
       "      <td>2</td>\n",
       "      <td>ZYNEB</td>\n",
       "      <td>XXXX</td>\n",
       "      <td>XX</td>\n",
       "      <td>111</td>\n",
       "    </tr>\n",
       "  </tbody>\n",
       "</table>\n",
       "<p>3676682 rows × 5 columns</p>\n",
       "</div>"
      ],
      "text/plain": [
       "         sexe        preusuel annais dpt  nombre\n",
       "0           1  _PRENOMS_RARES   1900  02       7\n",
       "1           1  _PRENOMS_RARES   1900  04       9\n",
       "2           1  _PRENOMS_RARES   1900  05       8\n",
       "3           1  _PRENOMS_RARES   1900  06      23\n",
       "4           1  _PRENOMS_RARES   1900  07       9\n",
       "...       ...             ...    ...  ..     ...\n",
       "3676677     2             ZYA   2018  59       3\n",
       "3676678     2             ZYA   XXXX  XX     252\n",
       "3676679     2            ZYNA   2013  93       3\n",
       "3676680     2            ZYNA   XXXX  XX      54\n",
       "3676681     2           ZYNEB   XXXX  XX     111\n",
       "\n",
       "[3676682 rows x 5 columns]"
      ]
     },
     "execution_count": 46,
     "metadata": {},
     "output_type": "execute_result"
    }
   ],
   "source": [
    "FirstNames = pd.read_csv(file, delimiter = \";\")\n",
    "FirstNames"
   ]
  },
  {
   "cell_type": "markdown",
   "metadata": {},
   "source": [
    "Translation in english of variables names:  \n",
    "sexe -> gender  \n",
    "preusuel (prénom usuel) -> Firstname  \n",
    "annais (année de naissance) -> Birth year  \n",
    "dpt (département) -> department (administrative area unit)  \n",
    "nombre -> number"
   ]
  },
  {
   "cell_type": "markdown",
   "metadata": {},
   "source": [
    "## Clean the Data"
   ]
  },
  {
   "cell_type": "markdown",
   "metadata": {},
   "source": [
    "In order to avoid encountering problems later, when we analize the data, we delete the rows where we have empty values and the rows where we have \"XXXX\" in the year column and \"XX\" in the department colums."
   ]
  },
  {
   "cell_type": "code",
   "execution_count": 47,
   "metadata": {},
   "outputs": [
    {
     "name": "stdout",
     "output_type": "stream",
     "text": [
      "         sexe        preusuel annais  dpt  nombre\n",
      "0           1  _PRENOMS_RARES   1900   02       7\n",
      "1           1  _PRENOMS_RARES   1900   04       9\n",
      "2           1  _PRENOMS_RARES   1900   05       8\n",
      "3           1  _PRENOMS_RARES   1900   06      23\n",
      "4           1  _PRENOMS_RARES   1900   07       9\n",
      "...       ...             ...    ...  ...     ...\n",
      "3676674     2             ZYA   2013   44       4\n",
      "3676675     2             ZYA   2013   59       3\n",
      "3676676     2             ZYA   2017  974       3\n",
      "3676677     2             ZYA   2018   59       3\n",
      "3676679     2            ZYNA   2013   93       3\n",
      "\n",
      "[3640237 rows x 5 columns]\n"
     ]
    }
   ],
   "source": [
    "FirstNames = FirstNames.dropna().copy()\n",
    "FirstNames = FirstNames.drop(FirstNames[FirstNames['annais']==\"XXXX\"].index)\n",
    "FirstNames = FirstNames.drop(FirstNames[FirstNames['dpt']==\"XX\"].index)\n",
    "print(FirstNames)"
   ]
  },
  {
   "cell_type": "markdown",
   "metadata": {},
   "source": [
    "We check if there is a value in the gender column different to 1 and 2. To check if this database only consider 2 genders or if there are some mistaken values."
   ]
  },
  {
   "cell_type": "code",
   "execution_count": 92,
   "metadata": {},
   "outputs": [
    {
     "name": "stdout",
     "output_type": "stream",
     "text": [
      "Empty DataFrame\n",
      "Columns: [sexe, preusuel, annais, dpt, nombre]\n",
      "Index: []\n"
     ]
    }
   ],
   "source": [
    "print(FirstNames[(FirstNames['sexe']!=1) & (FirstNames['sexe']!=2)])"
   ]
  },
  {
   "cell_type": "markdown",
   "metadata": {},
   "source": [
    "We want to know if the values of the column years is in integers or text so we try to print it considering as if they are numbers."
   ]
  },
  {
   "cell_type": "code",
   "execution_count": 97,
   "metadata": {},
   "outputs": [
    {
     "name": "stdout",
     "output_type": "stream",
     "text": [
      "Empty DataFrame\n",
      "Columns: [sexe, preusuel, annais, dpt, nombre]\n",
      "Index: []\n"
     ]
    }
   ],
   "source": [
    "print(FirstNames[(FirstNames['annais']==1987)])"
   ]
  },
  {
   "cell_type": "markdown",
   "metadata": {},
   "source": [
    "As we can see that there are no data, it means that the values are string. So we need to change them to integers. And now we can see that we print all the rows where the year is 1987."
   ]
  },
  {
   "cell_type": "code",
   "execution_count": 98,
   "metadata": {},
   "outputs": [
    {
     "name": "stdout",
     "output_type": "stream",
     "text": [
      "         sexe        preusuel  annais dpt  nombre\n",
      "7531        1  _PRENOMS_RARES    1987  01      30\n",
      "7532        1  _PRENOMS_RARES    1987  02      30\n",
      "7533        1  _PRENOMS_RARES    1987  03      17\n",
      "7534        1  _PRENOMS_RARES    1987  04       7\n",
      "7535        1  _PRENOMS_RARES    1987  05       7\n",
      "...       ...             ...     ...  ..     ...\n",
      "3675980     2           ZOHRA    1987  77       3\n",
      "3675981     2           ZOHRA    1987  78       5\n",
      "3675982     2           ZOHRA    1987  84       3\n",
      "3675983     2           ZOHRA    1987  92       3\n",
      "3675984     2           ZOHRA    1987  93       4\n",
      "\n",
      "[39253 rows x 5 columns]\n"
     ]
    }
   ],
   "source": [
    "FirstNames['annais'] = FirstNames['annais'].astype(int)\n",
    "print(FirstNames[(FirstNames['annais']==1987)])"
   ]
  },
  {
   "cell_type": "markdown",
   "metadata": {},
   "source": [
    "## Now let's analize de data"
   ]
  },
  {
   "cell_type": "markdown",
   "metadata": {},
   "source": [
    "### 1. Choose a firstname and analyse its frequency along time\n",
    "The first name we choose is: \"Kevin\". We can see that its occurrences begin to rise at the end of the 70s, reaching a maximum peak with more than 800 occurrences around the year 1990. Then it begins to decrease uniformly until below 100 occurrences around the year 2000."
   ]
  },
  {
   "cell_type": "code",
   "execution_count": 109,
   "metadata": {},
   "outputs": [
    {
     "data": {
      "text/plain": [
       "<matplotlib.axes._subplots.AxesSubplot at 0x7f6b4ca39828>"
      ]
     },
     "execution_count": 109,
     "metadata": {},
     "output_type": "execute_result"
    },
    {
     "data": {
      "image/png": "[encoded data removed]",
      "text/plain": [
       "<Figure size 432x288 with 1 Axes>"
      ]
     },
     "metadata": {
      "needs_background": "light"
     },
     "output_type": "display_data"
    }
   ],
   "source": [
    "name = FirstNames.loc[FirstNames[\"preusuel\"]==\"KEVIN\"]\n",
    "name.plot(x='annais', y='nombre')"
   ]
  },
  {
   "cell_type": "markdown",
   "metadata": {},
   "source": [
    "### Compare several firstnames frequency\n",
    "We compare the names Kevin, Margaux, Hervé, Coralie. And we can see that the name Kevin is the one that has biggest pick of ocurrences with 800, followed by Hervé with arround 600. For Margaux and Coralie there are only a little pased the 150. "
   ]
  },
  {
   "cell_type": "code",
   "execution_count": 127,
   "metadata": {},
   "outputs": [
    {
     "data": {
      "image/png": "[encoded data removed]",
      "text/plain": [
       "<Figure size 864x432 with 4 Axes>"
      ]
     },
     "metadata": {
      "needs_background": "light"
     },
     "output_type": "display_data"
    }
   ],
   "source": [
    "name2 = FirstNames.loc[FirstNames[\"preusuel\"]==\"MARGAUX\"]\n",
    "name3 = FirstNames.loc[FirstNames[\"preusuel\"]==\"HERVÉ\"]\n",
    "name4 = FirstNames.loc[FirstNames[\"preusuel\"]==\"CORALIE\"]\n",
    "\n",
    "fig, (axes) = plt.subplots(nrows=2,ncols=2,figsize=(12,6))\n",
    "axes[0, 0].set_title(\"Kevin\")\n",
    "axes[0, 1].set_title(\"Margaux\")\n",
    "axes[1, 0].set_title(\"Hervé\")\n",
    "axes[1, 1].set_title(\"Coralie\")\n",
    "name.plot(x='annais', y='nombre', ax = axes[0,0],subplots=True)\n",
    "name2.plot(x='annais', y='nombre',ax = axes[0,1],subplots=True)\n",
    "name3.plot(x='annais', y='nombre',ax = axes[1,0],subplots=True)\n",
    "name4.plot(x='annais', y='nombre',ax = axes[1,1],subplots=True)\n",
    "plt.show()"
   ]
  },
  {
   "cell_type": "markdown",
   "metadata": {},
   "source": [
    "But this only can tell us that some names were more \"popular\" at the same moment, for instance in a given year or period of time. We now are gonig to add all the ocurrences of each name over the years to find out which name has been most used in general."
   ]
  },
  {
   "cell_type": "code",
   "execution_count": 135,
   "metadata": {},
   "outputs": [
    {
     "data": {
      "image/png": "[encoded data removed]",
      "text/plain": [
       "<Figure size 576x288 with 1 Axes>"
      ]
     },
     "metadata": {
      "needs_background": "light"
     },
     "output_type": "display_data"
    }
   ],
   "source": [
    "total_Kevin = name['nombre'].sum()\n",
    "total_Margaux = name2['nombre'].sum()\n",
    "total_Hervé = name3['nombre'].sum()\n",
    "total_Coralie = name4['nombre'].sum()\n",
    "names=(\"Kevin\", \"Margaux\", \"Hervé\", \"Coralie\")\n",
    "total = (total_Kevin,total_Margaux,total_Hervé,total_Coralie)\n",
    "fig = plt.figure(figsize = (8, 4)) \n",
    "plt.bar(names, total, color ='blue', width = 0.6) \n",
    "  \n",
    "plt.xlabel(\"Names\") \n",
    "plt.ylabel(\"Total\") \n",
    "plt.show() "
   ]
  },
  {
   "cell_type": "markdown",
   "metadata": {},
   "source": [
    "As the plot shows, Kevin is still the name with more ocurrences with more than 140000 ocurrences, followed by Hervé. And at last Margaux and Coralie. "
   ]
  },
  {
   "cell_type": "markdown",
   "metadata": {},
   "source": [
    "### 2. Establish by gender the most given firstname by year\n",
    "In order to know what are the most given names per year and per gender, we need first to separate the data by genre. Then group all the names in each year and select the max value of the colum number per group. Which will give us the most given names for each year."
   ]
  },
  {
   "cell_type": "code",
   "execution_count": 226,
   "metadata": {},
   "outputs": [
    {
     "data": {
      "text/html": [
       "<div>\n",
       "<style scoped>\n",
       "    .dataframe tbody tr th:only-of-type {\n",
       "        vertical-align: middle;\n",
       "    }\n",
       "\n",
       "    .dataframe tbody tr th {\n",
       "        vertical-align: top;\n",
       "    }\n",
       "\n",
       "    .dataframe thead th {\n",
       "        text-align: right;\n",
       "    }\n",
       "</style>\n",
       "<table border=\"1\" class=\"dataframe\">\n",
       "  <thead>\n",
       "    <tr style=\"text-align: right;\">\n",
       "      <th></th>\n",
       "      <th>sexe</th>\n",
       "      <th>preusuel</th>\n",
       "      <th>annais</th>\n",
       "      <th>dpt</th>\n",
       "      <th>nombre</th>\n",
       "    </tr>\n",
       "  </thead>\n",
       "  <tbody>\n",
       "    <tr>\n",
       "      <th>113050</th>\n",
       "      <td>1</td>\n",
       "      <td>ANDRÉ</td>\n",
       "      <td>1900</td>\n",
       "      <td>75</td>\n",
       "      <td>1057</td>\n",
       "    </tr>\n",
       "    <tr>\n",
       "      <th>1081054</th>\n",
       "      <td>1</td>\n",
       "      <td>MARCEL</td>\n",
       "      <td>1901</td>\n",
       "      <td>75</td>\n",
       "      <td>1082</td>\n",
       "    </tr>\n",
       "    <tr>\n",
       "      <th>605883</th>\n",
       "      <td>1</td>\n",
       "      <td>GEORGES</td>\n",
       "      <td>1902</td>\n",
       "      <td>75</td>\n",
       "      <td>1098</td>\n",
       "    </tr>\n",
       "    <tr>\n",
       "      <th>113330</th>\n",
       "      <td>1</td>\n",
       "      <td>ANDRÉ</td>\n",
       "      <td>1903</td>\n",
       "      <td>75</td>\n",
       "      <td>1237</td>\n",
       "    </tr>\n",
       "    <tr>\n",
       "      <th>113423</th>\n",
       "      <td>1</td>\n",
       "      <td>ANDRÉ</td>\n",
       "      <td>1904</td>\n",
       "      <td>75</td>\n",
       "      <td>1305</td>\n",
       "    </tr>\n",
       "    <tr>\n",
       "      <th>...</th>\n",
       "      <td>...</td>\n",
       "      <td>...</td>\n",
       "      <td>...</td>\n",
       "      <td>...</td>\n",
       "      <td>...</td>\n",
       "    </tr>\n",
       "    <tr>\n",
       "      <th>10377</th>\n",
       "      <td>1</td>\n",
       "      <td>_PRENOMS_RARES</td>\n",
       "      <td>2015</td>\n",
       "      <td>93</td>\n",
       "      <td>1597</td>\n",
       "    </tr>\n",
       "    <tr>\n",
       "      <th>10476</th>\n",
       "      <td>1</td>\n",
       "      <td>_PRENOMS_RARES</td>\n",
       "      <td>2016</td>\n",
       "      <td>93</td>\n",
       "      <td>1565</td>\n",
       "    </tr>\n",
       "    <tr>\n",
       "      <th>10557</th>\n",
       "      <td>1</td>\n",
       "      <td>_PRENOMS_RARES</td>\n",
       "      <td>2017</td>\n",
       "      <td>75</td>\n",
       "      <td>1640</td>\n",
       "    </tr>\n",
       "    <tr>\n",
       "      <th>10674</th>\n",
       "      <td>1</td>\n",
       "      <td>_PRENOMS_RARES</td>\n",
       "      <td>2018</td>\n",
       "      <td>93</td>\n",
       "      <td>1555</td>\n",
       "    </tr>\n",
       "    <tr>\n",
       "      <th>10778</th>\n",
       "      <td>1</td>\n",
       "      <td>_PRENOMS_RARES</td>\n",
       "      <td>2019</td>\n",
       "      <td>973</td>\n",
       "      <td>1613</td>\n",
       "    </tr>\n",
       "  </tbody>\n",
       "</table>\n",
       "<p>120 rows × 5 columns</p>\n",
       "</div>"
      ],
      "text/plain": [
       "         sexe        preusuel  annais  dpt  nombre\n",
       "113050      1           ANDRÉ    1900   75    1057\n",
       "1081054     1          MARCEL    1901   75    1082\n",
       "605883      1         GEORGES    1902   75    1098\n",
       "113330      1           ANDRÉ    1903   75    1237\n",
       "113423      1           ANDRÉ    1904   75    1305\n",
       "...       ...             ...     ...  ...     ...\n",
       "10377       1  _PRENOMS_RARES    2015   93    1597\n",
       "10476       1  _PRENOMS_RARES    2016   93    1565\n",
       "10557       1  _PRENOMS_RARES    2017   75    1640\n",
       "10674       1  _PRENOMS_RARES    2018   93    1555\n",
       "10778       1  _PRENOMS_RARES    2019  973    1613\n",
       "\n",
       "[120 rows x 5 columns]"
      ]
     },
     "execution_count": 226,
     "metadata": {},
     "output_type": "execute_result"
    }
   ],
   "source": [
    "gender1 = FirstNames.loc[FirstNames[\"sexe\"]==1]\n",
    "gender2 = FirstNames.loc[FirstNames[\"sexe\"]==2]\n",
    "\n",
    "index1 = gender1.groupby(by=[\"annais\"])['nombre'].transform(max) == gender1['nombre']\n",
    "gender1[index1].sort_values('annais')"
   ]
  },
  {
   "cell_type": "code",
   "execution_count": 227,
   "metadata": {},
   "outputs": [
    {
     "data": {
      "text/html": [
       "<div>\n",
       "<style scoped>\n",
       "    .dataframe tbody tr th:only-of-type {\n",
       "        vertical-align: middle;\n",
       "    }\n",
       "\n",
       "    .dataframe tbody tr th {\n",
       "        vertical-align: top;\n",
       "    }\n",
       "\n",
       "    .dataframe thead th {\n",
       "        text-align: right;\n",
       "    }\n",
       "</style>\n",
       "<table border=\"1\" class=\"dataframe\">\n",
       "  <thead>\n",
       "    <tr style=\"text-align: right;\">\n",
       "      <th></th>\n",
       "      <th>sexe</th>\n",
       "      <th>preusuel</th>\n",
       "      <th>annais</th>\n",
       "      <th>dpt</th>\n",
       "      <th>nombre</th>\n",
       "    </tr>\n",
       "  </thead>\n",
       "  <tbody>\n",
       "    <tr>\n",
       "      <th>3005994</th>\n",
       "      <td>2</td>\n",
       "      <td>MARIE</td>\n",
       "      <td>1900</td>\n",
       "      <td>29</td>\n",
       "      <td>2519</td>\n",
       "    </tr>\n",
       "    <tr>\n",
       "      <th>3006088</th>\n",
       "      <td>2</td>\n",
       "      <td>MARIE</td>\n",
       "      <td>1901</td>\n",
       "      <td>29</td>\n",
       "      <td>2688</td>\n",
       "    </tr>\n",
       "    <tr>\n",
       "      <th>3006182</th>\n",
       "      <td>2</td>\n",
       "      <td>MARIE</td>\n",
       "      <td>1902</td>\n",
       "      <td>29</td>\n",
       "      <td>2772</td>\n",
       "    </tr>\n",
       "    <tr>\n",
       "      <th>3006276</th>\n",
       "      <td>2</td>\n",
       "      <td>MARIE</td>\n",
       "      <td>1903</td>\n",
       "      <td>29</td>\n",
       "      <td>2773</td>\n",
       "    </tr>\n",
       "    <tr>\n",
       "      <th>3006370</th>\n",
       "      <td>2</td>\n",
       "      <td>MARIE</td>\n",
       "      <td>1904</td>\n",
       "      <td>29</td>\n",
       "      <td>2738</td>\n",
       "    </tr>\n",
       "    <tr>\n",
       "      <th>...</th>\n",
       "      <td>...</td>\n",
       "      <td>...</td>\n",
       "      <td>...</td>\n",
       "      <td>...</td>\n",
       "      <td>...</td>\n",
       "    </tr>\n",
       "    <tr>\n",
       "      <th>1715166</th>\n",
       "      <td>2</td>\n",
       "      <td>_PRENOMS_RARES</td>\n",
       "      <td>2015</td>\n",
       "      <td>93</td>\n",
       "      <td>1688</td>\n",
       "    </tr>\n",
       "    <tr>\n",
       "      <th>1715265</th>\n",
       "      <td>2</td>\n",
       "      <td>_PRENOMS_RARES</td>\n",
       "      <td>2016</td>\n",
       "      <td>93</td>\n",
       "      <td>1634</td>\n",
       "    </tr>\n",
       "    <tr>\n",
       "      <th>1715369</th>\n",
       "      <td>2</td>\n",
       "      <td>_PRENOMS_RARES</td>\n",
       "      <td>2017</td>\n",
       "      <td>973</td>\n",
       "      <td>1829</td>\n",
       "    </tr>\n",
       "    <tr>\n",
       "      <th>1715468</th>\n",
       "      <td>2</td>\n",
       "      <td>_PRENOMS_RARES</td>\n",
       "      <td>2018</td>\n",
       "      <td>973</td>\n",
       "      <td>1846</td>\n",
       "    </tr>\n",
       "    <tr>\n",
       "      <th>1715567</th>\n",
       "      <td>2</td>\n",
       "      <td>_PRENOMS_RARES</td>\n",
       "      <td>2019</td>\n",
       "      <td>973</td>\n",
       "      <td>1735</td>\n",
       "    </tr>\n",
       "  </tbody>\n",
       "</table>\n",
       "<p>120 rows × 5 columns</p>\n",
       "</div>"
      ],
      "text/plain": [
       "         sexe        preusuel  annais  dpt  nombre\n",
       "3005994     2           MARIE    1900   29    2519\n",
       "3006088     2           MARIE    1901   29    2688\n",
       "3006182     2           MARIE    1902   29    2772\n",
       "3006276     2           MARIE    1903   29    2773\n",
       "3006370     2           MARIE    1904   29    2738\n",
       "...       ...             ...     ...  ...     ...\n",
       "1715166     2  _PRENOMS_RARES    2015   93    1688\n",
       "1715265     2  _PRENOMS_RARES    2016   93    1634\n",
       "1715369     2  _PRENOMS_RARES    2017  973    1829\n",
       "1715468     2  _PRENOMS_RARES    2018  973    1846\n",
       "1715567     2  _PRENOMS_RARES    2019  973    1735\n",
       "\n",
       "[120 rows x 5 columns]"
      ]
     },
     "execution_count": 227,
     "metadata": {},
     "output_type": "execute_result"
    }
   ],
   "source": [
    "index2 = gender2.groupby(by=[\"annais\"])['nombre'].transform(max) == gender2['nombre']\n",
    "gender2[index2].sort_values('annais')"
   ]
  },
  {
   "cell_type": "markdown",
   "metadata": {},
   "source": [
    "### Analyse the evolution of the most frequent firstname\n",
    "We can see in the plot the evolution of some of the names more frequents.\n",
    "\n",
    "As we can see, André, Marcel and Georges were really frequent at the beginning of the century. And it lowered its frequency around the 60s. Unlike Marie, which in the 60s is its highest peak of occurrences."
   ]
  },
  {
   "cell_type": "code",
   "execution_count": 233,
   "metadata": {},
   "outputs": [
    {
     "data": {
      "image/png": "[encoded data removed]",
      "text/plain": [
       "<Figure size 864x432 with 4 Axes>"
      ]
     },
     "metadata": {
      "needs_background": "light"
     },
     "output_type": "display_data"
    }
   ],
   "source": [
    "name1 = FirstNames.loc[FirstNames[\"preusuel\"]==\"ANDRÉ\"]\n",
    "name2 = FirstNames.loc[FirstNames[\"preusuel\"]==\"MARCEL\"]\n",
    "name3 = FirstNames.loc[FirstNames[\"preusuel\"]==\"GEORGES\"]\n",
    "name4 = FirstNames.loc[FirstNames[\"preusuel\"]==\"MARIE\"]\n",
    "\n",
    "fig, (axes) = plt.subplots(nrows=2,ncols=2,figsize=(12,6))\n",
    "axes[0, 0].set_title(\"ANDRÉ\")\n",
    "axes[0, 1].set_title(\"MARCEL\")\n",
    "axes[1, 0].set_title(\"GEORGES\")\n",
    "axes[1, 1].set_title(\"MARIE\")\n",
    "name1.plot(x='annais', y='nombre',ax = axes[0,0],subplots=True)\n",
    "name2.plot(x='annais', y='nombre',ax = axes[0,1],subplots=True)\n",
    "name3.plot(x='annais', y='nombre',ax = axes[1,0],subplots=True)\n",
    "name4.plot(x='annais', y='nombre',ax = axes[1,1],subplots=True)\n",
    "plt.show()"
   ]
  }
 ],
 "metadata": {
  "kernelspec": {
   "display_name": "Python 3",
   "language": "python",
   "name": "python3"
  },
  "language_info": {
   "codemirror_mode": {
    "name": "ipython",
    "version": 3
   },
   "file_extension": ".py",
   "mimetype": "text/x-python",
   "name": "python",
   "nbconvert_exporter": "python",
   "pygments_lexer": "ipython3",
   "version": "3.6.9"
  }
 },
 "nbformat": 4,
 "nbformat_minor": 4
}
